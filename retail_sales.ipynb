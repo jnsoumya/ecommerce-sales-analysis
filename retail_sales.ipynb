{
 "cells": [
  {
   "cell_type": "code",
   "execution_count": 1,
   "metadata": {},
   "outputs": [],
   "source": [
    "import pandas as pd"
   ]
  },
  {
   "cell_type": "code",
   "execution_count": 2,
   "metadata": {},
   "outputs": [],
   "source": [
    "df = pd.read_excel('./Online_Retail.xlsx', sheet_name=0)\n"
   ]
  },
  {
   "cell_type": "code",
   "execution_count": 3,
   "metadata": {},
   "outputs": [
    {
     "data": {
      "text/html": [
       "<div>\n",
       "<style scoped>\n",
       "    .dataframe tbody tr th:only-of-type {\n",
       "        vertical-align: middle;\n",
       "    }\n",
       "\n",
       "    .dataframe tbody tr th {\n",
       "        vertical-align: top;\n",
       "    }\n",
       "\n",
       "    .dataframe thead th {\n",
       "        text-align: right;\n",
       "    }\n",
       "</style>\n",
       "<table border=\"1\" class=\"dataframe\">\n",
       "  <thead>\n",
       "    <tr style=\"text-align: right;\">\n",
       "      <th></th>\n",
       "      <th>InvoiceNo</th>\n",
       "      <th>StockCode</th>\n",
       "      <th>Description</th>\n",
       "      <th>Quantity</th>\n",
       "      <th>InvoiceDate</th>\n",
       "      <th>UnitPrice</th>\n",
       "      <th>CustomerID</th>\n",
       "      <th>Country</th>\n",
       "      <th>Transaction Type Categories</th>\n",
       "    </tr>\n",
       "  </thead>\n",
       "  <tbody>\n",
       "    <tr>\n",
       "      <th>0</th>\n",
       "      <td>536370</td>\n",
       "      <td>10002</td>\n",
       "      <td>INFLATABLE POLITICAL GLOBE</td>\n",
       "      <td>48</td>\n",
       "      <td>2010-12-01 08:45:00</td>\n",
       "      <td>0.85</td>\n",
       "      <td>12583.0</td>\n",
       "      <td>France</td>\n",
       "      <td>Sold</td>\n",
       "    </tr>\n",
       "    <tr>\n",
       "      <th>1</th>\n",
       "      <td>536382</td>\n",
       "      <td>10002</td>\n",
       "      <td>INFLATABLE POLITICAL GLOBE</td>\n",
       "      <td>12</td>\n",
       "      <td>2010-12-01 09:45:00</td>\n",
       "      <td>0.85</td>\n",
       "      <td>16098.0</td>\n",
       "      <td>United Kingdom</td>\n",
       "      <td>Sold</td>\n",
       "    </tr>\n",
       "    <tr>\n",
       "      <th>2</th>\n",
       "      <td>536756</td>\n",
       "      <td>10002</td>\n",
       "      <td>INFLATABLE POLITICAL GLOBE</td>\n",
       "      <td>1</td>\n",
       "      <td>2010-12-02 14:23:00</td>\n",
       "      <td>0.85</td>\n",
       "      <td>NaN</td>\n",
       "      <td>United Kingdom</td>\n",
       "      <td>Sold</td>\n",
       "    </tr>\n",
       "    <tr>\n",
       "      <th>3</th>\n",
       "      <td>536863</td>\n",
       "      <td>10002</td>\n",
       "      <td>INFLATABLE POLITICAL GLOBE</td>\n",
       "      <td>1</td>\n",
       "      <td>2010-12-03 11:19:00</td>\n",
       "      <td>0.85</td>\n",
       "      <td>17967.0</td>\n",
       "      <td>United Kingdom</td>\n",
       "      <td>Sold</td>\n",
       "    </tr>\n",
       "    <tr>\n",
       "      <th>4</th>\n",
       "      <td>536865</td>\n",
       "      <td>10002</td>\n",
       "      <td>INFLATABLE POLITICAL GLOBE</td>\n",
       "      <td>5</td>\n",
       "      <td>2010-12-03 11:28:00</td>\n",
       "      <td>1.66</td>\n",
       "      <td>NaN</td>\n",
       "      <td>United Kingdom</td>\n",
       "      <td>Sold</td>\n",
       "    </tr>\n",
       "  </tbody>\n",
       "</table>\n",
       "</div>"
      ],
      "text/plain": [
       "  InvoiceNo StockCode                  Description  Quantity  \\\n",
       "0    536370     10002  INFLATABLE POLITICAL GLOBE         48   \n",
       "1    536382     10002  INFLATABLE POLITICAL GLOBE         12   \n",
       "2    536756     10002  INFLATABLE POLITICAL GLOBE          1   \n",
       "3    536863     10002  INFLATABLE POLITICAL GLOBE          1   \n",
       "4    536865     10002  INFLATABLE POLITICAL GLOBE          5   \n",
       "\n",
       "          InvoiceDate  UnitPrice  CustomerID         Country  \\\n",
       "0 2010-12-01 08:45:00       0.85     12583.0          France   \n",
       "1 2010-12-01 09:45:00       0.85     16098.0  United Kingdom   \n",
       "2 2010-12-02 14:23:00       0.85         NaN  United Kingdom   \n",
       "3 2010-12-03 11:19:00       0.85     17967.0  United Kingdom   \n",
       "4 2010-12-03 11:28:00       1.66         NaN  United Kingdom   \n",
       "\n",
       "  Transaction Type Categories  \n",
       "0                        Sold  \n",
       "1                        Sold  \n",
       "2                        Sold  \n",
       "3                        Sold  \n",
       "4                        Sold  "
      ]
     },
     "execution_count": 3,
     "metadata": {},
     "output_type": "execute_result"
    }
   ],
   "source": [
    "df.head()"
   ]
  },
  {
   "cell_type": "code",
   "execution_count": 4,
   "metadata": {},
   "outputs": [
    {
     "data": {
      "text/plain": [
       "(541909, 9)"
      ]
     },
     "execution_count": 4,
     "metadata": {},
     "output_type": "execute_result"
    }
   ],
   "source": [
    "df.shape"
   ]
  },
  {
   "cell_type": "code",
   "execution_count": 5,
   "metadata": {},
   "outputs": [
    {
     "data": {
      "text/html": [
       "<div>\n",
       "<style scoped>\n",
       "    .dataframe tbody tr th:only-of-type {\n",
       "        vertical-align: middle;\n",
       "    }\n",
       "\n",
       "    .dataframe tbody tr th {\n",
       "        vertical-align: top;\n",
       "    }\n",
       "\n",
       "    .dataframe thead th {\n",
       "        text-align: right;\n",
       "    }\n",
       "</style>\n",
       "<table border=\"1\" class=\"dataframe\">\n",
       "  <thead>\n",
       "    <tr style=\"text-align: right;\">\n",
       "      <th></th>\n",
       "      <th>Quantity</th>\n",
       "      <th>InvoiceDate</th>\n",
       "      <th>UnitPrice</th>\n",
       "      <th>CustomerID</th>\n",
       "    </tr>\n",
       "  </thead>\n",
       "  <tbody>\n",
       "    <tr>\n",
       "      <th>count</th>\n",
       "      <td>541909.000000</td>\n",
       "      <td>541909</td>\n",
       "      <td>541909.000000</td>\n",
       "      <td>406829.000000</td>\n",
       "    </tr>\n",
       "    <tr>\n",
       "      <th>mean</th>\n",
       "      <td>9.552250</td>\n",
       "      <td>2011-07-04 13:34:57.156386048</td>\n",
       "      <td>4.611114</td>\n",
       "      <td>15287.690570</td>\n",
       "    </tr>\n",
       "    <tr>\n",
       "      <th>min</th>\n",
       "      <td>-80995.000000</td>\n",
       "      <td>2010-12-01 08:26:00</td>\n",
       "      <td>-11062.060000</td>\n",
       "      <td>12346.000000</td>\n",
       "    </tr>\n",
       "    <tr>\n",
       "      <th>25%</th>\n",
       "      <td>1.000000</td>\n",
       "      <td>2011-03-28 11:34:00</td>\n",
       "      <td>1.250000</td>\n",
       "      <td>13953.000000</td>\n",
       "    </tr>\n",
       "    <tr>\n",
       "      <th>50%</th>\n",
       "      <td>3.000000</td>\n",
       "      <td>2011-07-19 17:17:00</td>\n",
       "      <td>2.080000</td>\n",
       "      <td>15152.000000</td>\n",
       "    </tr>\n",
       "    <tr>\n",
       "      <th>75%</th>\n",
       "      <td>10.000000</td>\n",
       "      <td>2011-10-19 11:27:00</td>\n",
       "      <td>4.130000</td>\n",
       "      <td>16791.000000</td>\n",
       "    </tr>\n",
       "    <tr>\n",
       "      <th>max</th>\n",
       "      <td>80995.000000</td>\n",
       "      <td>2011-12-09 12:50:00</td>\n",
       "      <td>38970.000000</td>\n",
       "      <td>18287.000000</td>\n",
       "    </tr>\n",
       "    <tr>\n",
       "      <th>std</th>\n",
       "      <td>218.081158</td>\n",
       "      <td>NaN</td>\n",
       "      <td>96.759853</td>\n",
       "      <td>1713.600303</td>\n",
       "    </tr>\n",
       "  </tbody>\n",
       "</table>\n",
       "</div>"
      ],
      "text/plain": [
       "            Quantity                    InvoiceDate      UnitPrice  \\\n",
       "count  541909.000000                         541909  541909.000000   \n",
       "mean        9.552250  2011-07-04 13:34:57.156386048       4.611114   \n",
       "min    -80995.000000            2010-12-01 08:26:00  -11062.060000   \n",
       "25%         1.000000            2011-03-28 11:34:00       1.250000   \n",
       "50%         3.000000            2011-07-19 17:17:00       2.080000   \n",
       "75%        10.000000            2011-10-19 11:27:00       4.130000   \n",
       "max     80995.000000            2011-12-09 12:50:00   38970.000000   \n",
       "std       218.081158                            NaN      96.759853   \n",
       "\n",
       "          CustomerID  \n",
       "count  406829.000000  \n",
       "mean    15287.690570  \n",
       "min     12346.000000  \n",
       "25%     13953.000000  \n",
       "50%     15152.000000  \n",
       "75%     16791.000000  \n",
       "max     18287.000000  \n",
       "std      1713.600303  "
      ]
     },
     "execution_count": 5,
     "metadata": {},
     "output_type": "execute_result"
    }
   ],
   "source": [
    "df.describe()"
   ]
  },
  {
   "cell_type": "code",
   "execution_count": 6,
   "metadata": {},
   "outputs": [
    {
     "data": {
      "text/plain": [
       "InvoiceNo                              object\n",
       "StockCode                              object\n",
       "Description                            object\n",
       "Quantity                                int64\n",
       "InvoiceDate                    datetime64[ns]\n",
       "UnitPrice                             float64\n",
       "CustomerID                            float64\n",
       "Country                                object\n",
       "Transaction Type Categories            object\n",
       "dtype: object"
      ]
     },
     "execution_count": 6,
     "metadata": {},
     "output_type": "execute_result"
    }
   ],
   "source": [
    "df.dtypes"
   ]
  },
  {
   "cell_type": "code",
   "execution_count": 7,
   "metadata": {},
   "outputs": [
    {
     "data": {
      "text/plain": [
       "Index(['InvoiceNo', 'StockCode', 'Description', 'Quantity', 'InvoiceDate',\n",
       "       'UnitPrice', 'CustomerID', 'Country', 'Transaction Type Categories'],\n",
       "      dtype='object')"
      ]
     },
     "execution_count": 7,
     "metadata": {},
     "output_type": "execute_result"
    }
   ],
   "source": [
    "df.columns"
   ]
  },
  {
   "cell_type": "code",
   "execution_count": 8,
   "metadata": {},
   "outputs": [
    {
     "data": {
      "text/plain": [
       "Index(['invoiceno', 'stockcode', 'description', 'quantity', 'invoicedate',\n",
       "       'unitprice', 'customerid', 'country', 'transaction type categories'],\n",
       "      dtype='object')"
      ]
     },
     "execution_count": 8,
     "metadata": {},
     "output_type": "execute_result"
    }
   ],
   "source": [
    "df.columns = df.columns.str.lower()\n",
    "\n",
    "df.columns"
   ]
  },
  {
   "cell_type": "code",
   "execution_count": 9,
   "metadata": {},
   "outputs": [
    {
     "data": {
      "text/plain": [
       "Index(['invoice_no', 'stock_code', 'description', 'quantity', 'invoice_date',\n",
       "       'unit_price', 'customer_id', 'country', 'transaction_type_categories'],\n",
       "      dtype='object')"
      ]
     },
     "execution_count": 9,
     "metadata": {},
     "output_type": "execute_result"
    }
   ],
   "source": [
    "df.columns = df.columns.str.replace('invoiceno', 'invoice_no')\n",
    "df.columns = df.columns.str.replace('stockcode', 'stock_code')\n",
    "df.columns = df.columns.str.replace('invoicedate', 'invoice_date')\n",
    "df.columns = df.columns.str.replace('unitprice', 'unit_price')\n",
    "df.columns = df.columns.str.replace('customerid', 'customer_id')\n",
    "df.columns = df.columns.str.replace('transaction type categories','transaction_type_categories')\n",
    "\n",
    "df.columns\n",
    "\n"
   ]
  },
  {
   "cell_type": "code",
   "execution_count": 10,
   "metadata": {},
   "outputs": [
    {
     "name": "stdout",
     "output_type": "stream",
     "text": [
      "<class 'pandas.core.frame.DataFrame'>\n",
      "RangeIndex: 541909 entries, 0 to 541908\n",
      "Data columns (total 9 columns):\n",
      " #   Column                       Non-Null Count   Dtype         \n",
      "---  ------                       --------------   -----         \n",
      " 0   invoice_no                   541909 non-null  object        \n",
      " 1   stock_code                   541909 non-null  object        \n",
      " 2   description                  540455 non-null  object        \n",
      " 3   quantity                     541909 non-null  int64         \n",
      " 4   invoice_date                 541909 non-null  datetime64[ns]\n",
      " 5   unit_price                   541909 non-null  float64       \n",
      " 6   customer_id                  406829 non-null  float64       \n",
      " 7   country                      541909 non-null  object        \n",
      " 8   transaction_type_categories  541909 non-null  object        \n",
      "dtypes: datetime64[ns](1), float64(2), int64(1), object(5)\n",
      "memory usage: 37.2+ MB\n"
     ]
    }
   ],
   "source": [
    "df.info()"
   ]
  },
  {
   "cell_type": "code",
   "execution_count": 11,
   "metadata": {},
   "outputs": [
    {
     "name": "stdout",
     "output_type": "stream",
     "text": [
      "       invoice_no stock_code                  description  quantity  \\\n",
      "2          536756      10002  INFLATABLE POLITICAL GLOBE          1   \n",
      "4          536865      10002  INFLATABLE POLITICAL GLOBE          5   \n",
      "5          536876      10002  INFLATABLE POLITICAL GLOBE          2   \n",
      "8          537240      10002  INFLATABLE POLITICAL GLOBE          1   \n",
      "9          537638      10002  INFLATABLE POLITICAL GLOBE          5   \n",
      "...           ...        ...                          ...       ...   \n",
      "541904    C572347          S                      SAMPLES        -1   \n",
      "541905     572849          S                      SAMPLES         1   \n",
      "541906    C577330          S                      SAMPLES        -1   \n",
      "541907    C577330          S                      SAMPLES        -1   \n",
      "541908    C577330          S                      SAMPLES        -1   \n",
      "\n",
      "              invoice_date  unit_price  customer_id         country  \\\n",
      "2      2010-12-02 14:23:00        0.85          NaN  United Kingdom   \n",
      "4      2010-12-03 11:28:00        1.66          NaN  United Kingdom   \n",
      "5      2010-12-03 11:36:00        1.66          NaN  United Kingdom   \n",
      "8      2010-12-06 10:08:00        1.66          NaN  United Kingdom   \n",
      "9      2010-12-07 15:28:00        1.66          NaN  United Kingdom   \n",
      "...                    ...         ...          ...             ...   \n",
      "541904 2011-10-24 11:03:00       33.05          NaN  United Kingdom   \n",
      "541905 2011-10-26 12:20:00       33.05          NaN  United Kingdom   \n",
      "541906 2011-11-18 14:16:00        2.89          NaN  United Kingdom   \n",
      "541907 2011-11-18 14:16:00       75.00          NaN  United Kingdom   \n",
      "541908 2011-11-18 14:16:00        5.99          NaN  United Kingdom   \n",
      "\n",
      "       transaction_type_categories  \n",
      "2                             Sold  \n",
      "4                             Sold  \n",
      "5                             Sold  \n",
      "8                             Sold  \n",
      "9                             Sold  \n",
      "...                            ...  \n",
      "541904                     SAMPLES  \n",
      "541905                        Sold  \n",
      "541906                     SAMPLES  \n",
      "541907                     SAMPLES  \n",
      "541908                     SAMPLES  \n",
      "\n",
      "[135080 rows x 9 columns]\n"
     ]
    }
   ],
   "source": [
    "df_blank = df[df['customer_id'].isna()]\n",
    "print(df_blank)"
   ]
  },
  {
   "cell_type": "code",
   "execution_count": 12,
   "metadata": {},
   "outputs": [
    {
     "data": {
      "text/plain": [
       "invoice_no                            object\n",
       "stock_code                            object\n",
       "description                           object\n",
       "quantity                               int32\n",
       "invoice_date                   datetime64[s]\n",
       "unit_price                           float32\n",
       "customer_id                          float32\n",
       "country                               object\n",
       "transaction_type_categories           object\n",
       "dtype: object"
      ]
     },
     "execution_count": 12,
     "metadata": {},
     "output_type": "execute_result"
    }
   ],
   "source": [
    "# Optimize memory usage by converting `quantity` to int32\n",
    "df['quantity'] = df['quantity'].astype('int32')  # int32 can store these values\n",
    "\n",
    "# Convert `invoice_date` to `datetime64[s]` (seconds precision)\n",
    "df['invoice_date'] = df['invoice_date'].astype('datetime64[s]')\n",
    "\n",
    "# Convert `unit_price` to `float32` for memory optimization\n",
    "df['unit_price'] = df['unit_price'].astype('float32')\n",
    "\n",
    "# Convert `customer_id` to float32 (since the max value 18287 fits within int16 range)\n",
    "df['customer_id'] = df['customer_id'].astype('float32')\n",
    "\n",
    "\n",
    "df.dtypes\n",
    "\n"
   ]
  },
  {
   "cell_type": "code",
   "execution_count": 13,
   "metadata": {},
   "outputs": [
    {
     "name": "stdout",
     "output_type": "stream",
     "text": [
      "['France' 'United Kingdom' 'EIRE' 'Germany' 'Spain' 'Switzerland' 'Japan'\n",
      " 'Portugal' 'Canada' 'Israel' 'Norway' 'Unspecified' 'Greece' 'Italy'\n",
      " 'Sweden' 'Australia' 'Netherlands' 'Denmark' 'Belgium' 'Iceland' 'Poland'\n",
      " 'Hong Kong' 'Cyprus' 'Austria' 'USA' 'Finland' 'RSA' 'Lithuania' 'Brazil'\n",
      " 'Singapore' 'Channel Islands' 'Saudi Arabia' 'United Arab Emirates'\n",
      " 'Czech Republic' 'Malta' 'European Community' 'Lebanon' 'Bahrain']\n"
     ]
    }
   ],
   "source": [
    "unique_values = df['country'].unique()\n",
    "\n",
    "print(unique_values)"
   ]
  },
  {
   "cell_type": "code",
   "execution_count": 14,
   "metadata": {},
   "outputs": [
    {
     "name": "stdout",
     "output_type": "stream",
     "text": [
      "<class 'pandas.core.frame.DataFrame'>\n",
      "RangeIndex: 541909 entries, 0 to 541908\n",
      "Data columns (total 9 columns):\n",
      " #   Column                       Non-Null Count   Dtype        \n",
      "---  ------                       --------------   -----        \n",
      " 0   invoice_no                   541909 non-null  object       \n",
      " 1   stock_code                   541909 non-null  object       \n",
      " 2   description                  540455 non-null  object       \n",
      " 3   quantity                     541909 non-null  int32        \n",
      " 4   invoice_date                 541909 non-null  datetime64[s]\n",
      " 5   unit_price                   541909 non-null  float32      \n",
      " 6   customer_id                  406829 non-null  float32      \n",
      " 7   country                      541909 non-null  object       \n",
      " 8   transaction_type_categories  541909 non-null  object       \n",
      "dtypes: datetime64[s](1), float32(2), int32(1), object(5)\n",
      "memory usage: 31.0+ MB\n"
     ]
    }
   ],
   "source": [
    "df.info()"
   ]
  },
  {
   "cell_type": "code",
   "execution_count": 15,
   "metadata": {},
   "outputs": [
    {
     "data": {
      "text/plain": [
       "0         False\n",
       "1         False\n",
       "2         False\n",
       "3         False\n",
       "4         False\n",
       "          ...  \n",
       "541904    False\n",
       "541905    False\n",
       "541906    False\n",
       "541907    False\n",
       "541908    False\n",
       "Length: 541909, dtype: bool"
      ]
     },
     "execution_count": 15,
     "metadata": {},
     "output_type": "execute_result"
    }
   ],
   "source": [
    "df.duplicated()"
   ]
  },
  {
   "cell_type": "code",
   "execution_count": 16,
   "metadata": {},
   "outputs": [
    {
     "data": {
      "text/plain": [
       "np.int64(5268)"
      ]
     },
     "execution_count": 16,
     "metadata": {},
     "output_type": "execute_result"
    }
   ],
   "source": [
    "df.duplicated().sum()"
   ]
  },
  {
   "cell_type": "code",
   "execution_count": 17,
   "metadata": {},
   "outputs": [
    {
     "name": "stdout",
     "output_type": "stream",
     "text": [
      "       invoice_no stock_code                   description  quantity  \\\n",
      "106        548309      10120                  DOGGY RUBBER         1   \n",
      "196        558860      10125       MINI FUNKY DESIGN TAPES         1   \n",
      "312        558049      10133  COLOURING PENCILS BROWN TUBE         1   \n",
      "394        564049      10133  COLOURING PENCILS BROWN TUBE        10   \n",
      "544        562258      10135  COLOURING PENCILS BROWN TUBE         1   \n",
      "...           ...        ...                           ...       ...   \n",
      "540481     572344          M                        Manual        48   \n",
      "540482     572344          M                        Manual        48   \n",
      "540483     572344          M                        Manual        48   \n",
      "540484     572344          M                        Manual        48   \n",
      "541863    C544580          S                       SAMPLES        -1   \n",
      "\n",
      "              invoice_date  unit_price  customer_id         country  \\\n",
      "106    2011-03-30 12:02:00        0.21      16657.0  United Kingdom   \n",
      "196    2011-07-04 12:18:00        0.85      17975.0  United Kingdom   \n",
      "312    2011-06-24 14:16:00        0.42      15850.0  United Kingdom   \n",
      "394    2011-08-22 13:30:00        0.42      17585.0  United Kingdom   \n",
      "544    2011-08-03 15:28:00        1.25      16348.0  United Kingdom   \n",
      "...                    ...         ...          ...             ...   \n",
      "540481 2011-10-24 10:43:00        1.50      14607.0  United Kingdom   \n",
      "540482 2011-10-24 10:43:00        1.50      14607.0  United Kingdom   \n",
      "540483 2011-10-24 10:43:00        1.50      14607.0  United Kingdom   \n",
      "540484 2011-10-24 10:43:00        1.50      14607.0  United Kingdom   \n",
      "541863 2011-02-21 14:25:00        9.74          NaN  United Kingdom   \n",
      "\n",
      "       transaction_type_categories  \n",
      "106                           Sold  \n",
      "196                           Sold  \n",
      "312                           Sold  \n",
      "394                           Sold  \n",
      "544                           Sold  \n",
      "...                            ...  \n",
      "540481                        Sold  \n",
      "540482                        Sold  \n",
      "540483                        Sold  \n",
      "540484                        Sold  \n",
      "541863                     SAMPLES  \n",
      "\n",
      "[5268 rows x 9 columns]\n"
     ]
    }
   ],
   "source": [
    "duplicated_rows = df[df.duplicated()]\n",
    "\n",
    "print(duplicated_rows)"
   ]
  },
  {
   "cell_type": "code",
   "execution_count": 18,
   "metadata": {},
   "outputs": [
    {
     "data": {
      "text/plain": [
       "invoice_no                          0\n",
       "stock_code                          0\n",
       "description                      1454\n",
       "quantity                            0\n",
       "invoice_date                        0\n",
       "unit_price                          0\n",
       "customer_id                    135080\n",
       "country                             0\n",
       "transaction_type_categories         0\n",
       "dtype: int64"
      ]
     },
     "execution_count": 18,
     "metadata": {},
     "output_type": "execute_result"
    }
   ],
   "source": [
    "df.isnull().sum()"
   ]
  },
  {
   "cell_type": "code",
   "execution_count": 19,
   "metadata": {},
   "outputs": [],
   "source": [
    "df.drop_duplicates(inplace=True)"
   ]
  },
  {
   "cell_type": "code",
   "execution_count": 20,
   "metadata": {},
   "outputs": [
    {
     "data": {
      "text/plain": [
       "np.int64(0)"
      ]
     },
     "execution_count": 20,
     "metadata": {},
     "output_type": "execute_result"
    }
   ],
   "source": [
    "df.duplicated().sum()"
   ]
  },
  {
   "cell_type": "code",
   "execution_count": 21,
   "metadata": {},
   "outputs": [
    {
     "data": {
      "text/plain": [
       "(536641, 9)"
      ]
     },
     "execution_count": 21,
     "metadata": {},
     "output_type": "execute_result"
    }
   ],
   "source": [
    "df.shape"
   ]
  },
  {
   "cell_type": "code",
   "execution_count": 22,
   "metadata": {},
   "outputs": [
    {
     "data": {
      "text/plain": [
       "invoice_no                          0\n",
       "stock_code                          0\n",
       "description                      1454\n",
       "quantity                            0\n",
       "invoice_date                        0\n",
       "unit_price                          0\n",
       "customer_id                    135037\n",
       "country                             0\n",
       "transaction_type_categories         0\n",
       "dtype: int64"
      ]
     },
     "execution_count": 22,
     "metadata": {},
     "output_type": "execute_result"
    }
   ],
   "source": [
    "df.isnull().sum()"
   ]
  },
  {
   "cell_type": "code",
   "execution_count": 23,
   "metadata": {},
   "outputs": [
    {
     "data": {
      "text/html": [
       "<div>\n",
       "<style scoped>\n",
       "    .dataframe tbody tr th:only-of-type {\n",
       "        vertical-align: middle;\n",
       "    }\n",
       "\n",
       "    .dataframe tbody tr th {\n",
       "        vertical-align: top;\n",
       "    }\n",
       "\n",
       "    .dataframe thead th {\n",
       "        text-align: right;\n",
       "    }\n",
       "</style>\n",
       "<table border=\"1\" class=\"dataframe\">\n",
       "  <thead>\n",
       "    <tr style=\"text-align: right;\">\n",
       "      <th></th>\n",
       "      <th>invoice_no</th>\n",
       "      <th>stock_code</th>\n",
       "      <th>description</th>\n",
       "      <th>quantity</th>\n",
       "      <th>invoice_date</th>\n",
       "      <th>unit_price</th>\n",
       "      <th>customer_id</th>\n",
       "      <th>country</th>\n",
       "      <th>transaction_type_categories</th>\n",
       "    </tr>\n",
       "  </thead>\n",
       "  <tbody>\n",
       "    <tr>\n",
       "      <th>0</th>\n",
       "      <td>536370</td>\n",
       "      <td>10002</td>\n",
       "      <td>INFLATABLE POLITICAL GLOBE</td>\n",
       "      <td>48</td>\n",
       "      <td>2010-12-01 08:45:00</td>\n",
       "      <td>0.85</td>\n",
       "      <td>12583.0</td>\n",
       "      <td>France</td>\n",
       "      <td>Sold</td>\n",
       "    </tr>\n",
       "    <tr>\n",
       "      <th>1</th>\n",
       "      <td>536382</td>\n",
       "      <td>10002</td>\n",
       "      <td>INFLATABLE POLITICAL GLOBE</td>\n",
       "      <td>12</td>\n",
       "      <td>2010-12-01 09:45:00</td>\n",
       "      <td>0.85</td>\n",
       "      <td>16098.0</td>\n",
       "      <td>United Kingdom</td>\n",
       "      <td>Sold</td>\n",
       "    </tr>\n",
       "    <tr>\n",
       "      <th>2</th>\n",
       "      <td>536756</td>\n",
       "      <td>10002</td>\n",
       "      <td>INFLATABLE POLITICAL GLOBE</td>\n",
       "      <td>1</td>\n",
       "      <td>2010-12-02 14:23:00</td>\n",
       "      <td>0.85</td>\n",
       "      <td>NaN</td>\n",
       "      <td>United Kingdom</td>\n",
       "      <td>Sold</td>\n",
       "    </tr>\n",
       "    <tr>\n",
       "      <th>3</th>\n",
       "      <td>536863</td>\n",
       "      <td>10002</td>\n",
       "      <td>INFLATABLE POLITICAL GLOBE</td>\n",
       "      <td>1</td>\n",
       "      <td>2010-12-03 11:19:00</td>\n",
       "      <td>0.85</td>\n",
       "      <td>17967.0</td>\n",
       "      <td>United Kingdom</td>\n",
       "      <td>Sold</td>\n",
       "    </tr>\n",
       "    <tr>\n",
       "      <th>4</th>\n",
       "      <td>536865</td>\n",
       "      <td>10002</td>\n",
       "      <td>INFLATABLE POLITICAL GLOBE</td>\n",
       "      <td>5</td>\n",
       "      <td>2010-12-03 11:28:00</td>\n",
       "      <td>1.66</td>\n",
       "      <td>NaN</td>\n",
       "      <td>United Kingdom</td>\n",
       "      <td>Sold</td>\n",
       "    </tr>\n",
       "  </tbody>\n",
       "</table>\n",
       "</div>"
      ],
      "text/plain": [
       "  invoice_no stock_code                  description  quantity  \\\n",
       "0     536370      10002  INFLATABLE POLITICAL GLOBE         48   \n",
       "1     536382      10002  INFLATABLE POLITICAL GLOBE         12   \n",
       "2     536756      10002  INFLATABLE POLITICAL GLOBE          1   \n",
       "3     536863      10002  INFLATABLE POLITICAL GLOBE          1   \n",
       "4     536865      10002  INFLATABLE POLITICAL GLOBE          5   \n",
       "\n",
       "         invoice_date  unit_price  customer_id         country  \\\n",
       "0 2010-12-01 08:45:00        0.85      12583.0          France   \n",
       "1 2010-12-01 09:45:00        0.85      16098.0  United Kingdom   \n",
       "2 2010-12-02 14:23:00        0.85          NaN  United Kingdom   \n",
       "3 2010-12-03 11:19:00        0.85      17967.0  United Kingdom   \n",
       "4 2010-12-03 11:28:00        1.66          NaN  United Kingdom   \n",
       "\n",
       "  transaction_type_categories  \n",
       "0                        Sold  \n",
       "1                        Sold  \n",
       "2                        Sold  \n",
       "3                        Sold  \n",
       "4                        Sold  "
      ]
     },
     "execution_count": 23,
     "metadata": {},
     "output_type": "execute_result"
    }
   ],
   "source": [
    "df1 = df.copy()\n",
    "\n",
    "df1.head()"
   ]
  },
  {
   "cell_type": "code",
   "execution_count": 24,
   "metadata": {},
   "outputs": [
    {
     "data": {
      "text/plain": [
       "invoice_no                            object\n",
       "stock_code                            object\n",
       "description                           object\n",
       "quantity                               int32\n",
       "invoice_date                   datetime64[s]\n",
       "unit_price                           float32\n",
       "customer_id                          float32\n",
       "country                               object\n",
       "transaction_type_categories           object\n",
       "dtype: object"
      ]
     },
     "execution_count": 24,
     "metadata": {},
     "output_type": "execute_result"
    }
   ],
   "source": [
    "df1.dtypes"
   ]
  },
  {
   "cell_type": "code",
   "execution_count": 25,
   "metadata": {},
   "outputs": [
    {
     "data": {
      "text/html": [
       "<div>\n",
       "<style scoped>\n",
       "    .dataframe tbody tr th:only-of-type {\n",
       "        vertical-align: middle;\n",
       "    }\n",
       "\n",
       "    .dataframe tbody tr th {\n",
       "        vertical-align: top;\n",
       "    }\n",
       "\n",
       "    .dataframe thead th {\n",
       "        text-align: right;\n",
       "    }\n",
       "</style>\n",
       "<table border=\"1\" class=\"dataframe\">\n",
       "  <thead>\n",
       "    <tr style=\"text-align: right;\">\n",
       "      <th></th>\n",
       "      <th>invoice_no</th>\n",
       "      <th>stock_code</th>\n",
       "      <th>description</th>\n",
       "      <th>quantity</th>\n",
       "      <th>invoice_date</th>\n",
       "      <th>unit_price</th>\n",
       "      <th>customer_id</th>\n",
       "      <th>country</th>\n",
       "      <th>transaction_type_categories</th>\n",
       "      <th>revenue</th>\n",
       "    </tr>\n",
       "  </thead>\n",
       "  <tbody>\n",
       "    <tr>\n",
       "      <th>0</th>\n",
       "      <td>536370</td>\n",
       "      <td>10002</td>\n",
       "      <td>INFLATABLE POLITICAL GLOBE</td>\n",
       "      <td>48</td>\n",
       "      <td>2010-12-01 08:45:00</td>\n",
       "      <td>0.85</td>\n",
       "      <td>12583.0</td>\n",
       "      <td>France</td>\n",
       "      <td>Sold</td>\n",
       "      <td>40.800003</td>\n",
       "    </tr>\n",
       "    <tr>\n",
       "      <th>1</th>\n",
       "      <td>536382</td>\n",
       "      <td>10002</td>\n",
       "      <td>INFLATABLE POLITICAL GLOBE</td>\n",
       "      <td>12</td>\n",
       "      <td>2010-12-01 09:45:00</td>\n",
       "      <td>0.85</td>\n",
       "      <td>16098.0</td>\n",
       "      <td>United Kingdom</td>\n",
       "      <td>Sold</td>\n",
       "      <td>10.200001</td>\n",
       "    </tr>\n",
       "    <tr>\n",
       "      <th>2</th>\n",
       "      <td>536756</td>\n",
       "      <td>10002</td>\n",
       "      <td>INFLATABLE POLITICAL GLOBE</td>\n",
       "      <td>1</td>\n",
       "      <td>2010-12-02 14:23:00</td>\n",
       "      <td>0.85</td>\n",
       "      <td>NaN</td>\n",
       "      <td>United Kingdom</td>\n",
       "      <td>Sold</td>\n",
       "      <td>0.850000</td>\n",
       "    </tr>\n",
       "    <tr>\n",
       "      <th>3</th>\n",
       "      <td>536863</td>\n",
       "      <td>10002</td>\n",
       "      <td>INFLATABLE POLITICAL GLOBE</td>\n",
       "      <td>1</td>\n",
       "      <td>2010-12-03 11:19:00</td>\n",
       "      <td>0.85</td>\n",
       "      <td>17967.0</td>\n",
       "      <td>United Kingdom</td>\n",
       "      <td>Sold</td>\n",
       "      <td>0.850000</td>\n",
       "    </tr>\n",
       "    <tr>\n",
       "      <th>4</th>\n",
       "      <td>536865</td>\n",
       "      <td>10002</td>\n",
       "      <td>INFLATABLE POLITICAL GLOBE</td>\n",
       "      <td>5</td>\n",
       "      <td>2010-12-03 11:28:00</td>\n",
       "      <td>1.66</td>\n",
       "      <td>NaN</td>\n",
       "      <td>United Kingdom</td>\n",
       "      <td>Sold</td>\n",
       "      <td>8.300000</td>\n",
       "    </tr>\n",
       "  </tbody>\n",
       "</table>\n",
       "</div>"
      ],
      "text/plain": [
       "  invoice_no stock_code                  description  quantity  \\\n",
       "0     536370      10002  INFLATABLE POLITICAL GLOBE         48   \n",
       "1     536382      10002  INFLATABLE POLITICAL GLOBE         12   \n",
       "2     536756      10002  INFLATABLE POLITICAL GLOBE          1   \n",
       "3     536863      10002  INFLATABLE POLITICAL GLOBE          1   \n",
       "4     536865      10002  INFLATABLE POLITICAL GLOBE          5   \n",
       "\n",
       "         invoice_date  unit_price  customer_id         country  \\\n",
       "0 2010-12-01 08:45:00        0.85      12583.0          France   \n",
       "1 2010-12-01 09:45:00        0.85      16098.0  United Kingdom   \n",
       "2 2010-12-02 14:23:00        0.85          NaN  United Kingdom   \n",
       "3 2010-12-03 11:19:00        0.85      17967.0  United Kingdom   \n",
       "4 2010-12-03 11:28:00        1.66          NaN  United Kingdom   \n",
       "\n",
       "  transaction_type_categories    revenue  \n",
       "0                        Sold  40.800003  \n",
       "1                        Sold  10.200001  \n",
       "2                        Sold   0.850000  \n",
       "3                        Sold   0.850000  \n",
       "4                        Sold   8.300000  "
      ]
     },
     "execution_count": 25,
     "metadata": {},
     "output_type": "execute_result"
    }
   ],
   "source": [
    "# df1['revenue'] = df1['unit_price'] * df1['quantity']\n",
    "\n",
    "#specifying data type whlie creating column \n",
    "df1['revenue'] = (df1['unit_price'] * df1['quantity']).astype('float32')\n",
    "\n",
    "\n",
    "df1.head()"
   ]
  },
  {
   "cell_type": "code",
   "execution_count": 26,
   "metadata": {},
   "outputs": [
    {
     "data": {
      "text/plain": [
       "invoice_no                            object\n",
       "stock_code                            object\n",
       "description                           object\n",
       "quantity                               int32\n",
       "invoice_date                   datetime64[s]\n",
       "unit_price                           float32\n",
       "customer_id                          float32\n",
       "country                               object\n",
       "transaction_type_categories           object\n",
       "revenue                              float32\n",
       "dtype: object"
      ]
     },
     "execution_count": 26,
     "metadata": {},
     "output_type": "execute_result"
    }
   ],
   "source": [
    "df1.dtypes"
   ]
  },
  {
   "cell_type": "code",
   "execution_count": 27,
   "metadata": {},
   "outputs": [
    {
     "data": {
      "text/html": [
       "<div>\n",
       "<style scoped>\n",
       "    .dataframe tbody tr th:only-of-type {\n",
       "        vertical-align: middle;\n",
       "    }\n",
       "\n",
       "    .dataframe tbody tr th {\n",
       "        vertical-align: top;\n",
       "    }\n",
       "\n",
       "    .dataframe thead th {\n",
       "        text-align: right;\n",
       "    }\n",
       "</style>\n",
       "<table border=\"1\" class=\"dataframe\">\n",
       "  <thead>\n",
       "    <tr style=\"text-align: right;\">\n",
       "      <th></th>\n",
       "      <th>invoice_no</th>\n",
       "      <th>stock_code</th>\n",
       "      <th>description</th>\n",
       "      <th>quantity</th>\n",
       "      <th>invoice_date</th>\n",
       "      <th>unit_price</th>\n",
       "      <th>customer_id</th>\n",
       "      <th>country</th>\n",
       "      <th>transaction_type_categories</th>\n",
       "      <th>revenue</th>\n",
       "    </tr>\n",
       "  </thead>\n",
       "  <tbody>\n",
       "    <tr>\n",
       "      <th>541904</th>\n",
       "      <td>C572347</td>\n",
       "      <td>S</td>\n",
       "      <td>SAMPLES</td>\n",
       "      <td>-1</td>\n",
       "      <td>2011-10-24 11:03:00</td>\n",
       "      <td>33.049999</td>\n",
       "      <td>NaN</td>\n",
       "      <td>United Kingdom</td>\n",
       "      <td>SAMPLES</td>\n",
       "      <td>-33.049999</td>\n",
       "    </tr>\n",
       "    <tr>\n",
       "      <th>541905</th>\n",
       "      <td>572849</td>\n",
       "      <td>S</td>\n",
       "      <td>SAMPLES</td>\n",
       "      <td>1</td>\n",
       "      <td>2011-10-26 12:20:00</td>\n",
       "      <td>33.049999</td>\n",
       "      <td>NaN</td>\n",
       "      <td>United Kingdom</td>\n",
       "      <td>Sold</td>\n",
       "      <td>33.049999</td>\n",
       "    </tr>\n",
       "    <tr>\n",
       "      <th>541906</th>\n",
       "      <td>C577330</td>\n",
       "      <td>S</td>\n",
       "      <td>SAMPLES</td>\n",
       "      <td>-1</td>\n",
       "      <td>2011-11-18 14:16:00</td>\n",
       "      <td>2.890000</td>\n",
       "      <td>NaN</td>\n",
       "      <td>United Kingdom</td>\n",
       "      <td>SAMPLES</td>\n",
       "      <td>-2.890000</td>\n",
       "    </tr>\n",
       "    <tr>\n",
       "      <th>541907</th>\n",
       "      <td>C577330</td>\n",
       "      <td>S</td>\n",
       "      <td>SAMPLES</td>\n",
       "      <td>-1</td>\n",
       "      <td>2011-11-18 14:16:00</td>\n",
       "      <td>75.000000</td>\n",
       "      <td>NaN</td>\n",
       "      <td>United Kingdom</td>\n",
       "      <td>SAMPLES</td>\n",
       "      <td>-75.000000</td>\n",
       "    </tr>\n",
       "    <tr>\n",
       "      <th>541908</th>\n",
       "      <td>C577330</td>\n",
       "      <td>S</td>\n",
       "      <td>SAMPLES</td>\n",
       "      <td>-1</td>\n",
       "      <td>2011-11-18 14:16:00</td>\n",
       "      <td>5.990000</td>\n",
       "      <td>NaN</td>\n",
       "      <td>United Kingdom</td>\n",
       "      <td>SAMPLES</td>\n",
       "      <td>-5.990000</td>\n",
       "    </tr>\n",
       "  </tbody>\n",
       "</table>\n",
       "</div>"
      ],
      "text/plain": [
       "       invoice_no stock_code description  quantity        invoice_date  \\\n",
       "541904    C572347          S     SAMPLES        -1 2011-10-24 11:03:00   \n",
       "541905     572849          S     SAMPLES         1 2011-10-26 12:20:00   \n",
       "541906    C577330          S     SAMPLES        -1 2011-11-18 14:16:00   \n",
       "541907    C577330          S     SAMPLES        -1 2011-11-18 14:16:00   \n",
       "541908    C577330          S     SAMPLES        -1 2011-11-18 14:16:00   \n",
       "\n",
       "        unit_price  customer_id         country transaction_type_categories  \\\n",
       "541904   33.049999          NaN  United Kingdom                     SAMPLES   \n",
       "541905   33.049999          NaN  United Kingdom                        Sold   \n",
       "541906    2.890000          NaN  United Kingdom                     SAMPLES   \n",
       "541907   75.000000          NaN  United Kingdom                     SAMPLES   \n",
       "541908    5.990000          NaN  United Kingdom                     SAMPLES   \n",
       "\n",
       "          revenue  \n",
       "541904 -33.049999  \n",
       "541905  33.049999  \n",
       "541906  -2.890000  \n",
       "541907 -75.000000  \n",
       "541908  -5.990000  "
      ]
     },
     "execution_count": 27,
     "metadata": {},
     "output_type": "execute_result"
    }
   ],
   "source": [
    "df1.tail()"
   ]
  },
  {
   "cell_type": "code",
   "execution_count": 28,
   "metadata": {},
   "outputs": [
    {
     "name": "stdout",
     "output_type": "stream",
     "text": [
      "442023    168469.59375\n",
      "Name: revenue, dtype: float32\n"
     ]
    }
   ],
   "source": [
    "# Filter the rows where invoice_no = 581483 and stock_code = 23843\n",
    "filtered_data = df1[(df1['invoice_no'] == 581483) & (df['stock_code'] == 23843)]\n",
    "\n",
    "# Now, select a revenue column \n",
    "selected_column = filtered_data['revenue']\n",
    "\n",
    "print(selected_column)"
   ]
  },
  {
   "cell_type": "code",
   "execution_count": 29,
   "metadata": {},
   "outputs": [],
   "source": [
    "from dotenv import load_dotenv\n",
    "import os\n",
    "\n",
    "load_dotenv()  \n",
    "host = os.getenv(\"HOST\")\n",
    "port = os.getenv(\"PORT\")\n",
    "user = os.getenv(\"USER\")\n",
    "password = os.getenv(\"PASSWORD\")\n"
   ]
  },
  {
   "cell_type": "code",
   "execution_count": 30,
   "metadata": {},
   "outputs": [],
   "source": [
    "# *** mysql tool kits ***\n",
    "\n",
    "import pymysql\n",
    "from sqlalchemy import create_engine"
   ]
  },
  {
   "cell_type": "code",
   "execution_count": 31,
   "metadata": {},
   "outputs": [
    {
     "name": "stdout",
     "output_type": "stream",
     "text": [
      "connected successfully to mysql\n"
     ]
    }
   ],
   "source": [
    "#mysql connections\n",
    "\n",
    "try:\n",
    "    engine_mysql = create_engine(f\"mysql+pymysql://{user}:{password}@{host}:{port}/retail_sales_db\")\n",
    "    print(\"connected successfully to mysql\")\n",
    "except Exception as e:\n",
    "    print(\"unable to connect\")\n",
    "    print(e)"
   ]
  },
  {
   "cell_type": "code",
   "execution_count": 32,
   "metadata": {},
   "outputs": [
    {
     "data": {
      "text/plain": [
       "536641"
      ]
     },
     "execution_count": 32,
     "metadata": {},
     "output_type": "execute_result"
    }
   ],
   "source": [
    "df1.to_sql(name='retail_sales', con=engine_mysql,if_exists='append',index=False)\n"
   ]
  },
  {
   "cell_type": "code",
   "execution_count": 33,
   "metadata": {},
   "outputs": [
    {
     "data": {
      "text/plain": [
       "np.int64(0)"
      ]
     },
     "execution_count": 33,
     "metadata": {},
     "output_type": "execute_result"
    }
   ],
   "source": [
    "df1.duplicated().sum()"
   ]
  },
  {
   "cell_type": "code",
   "execution_count": 34,
   "metadata": {},
   "outputs": [],
   "source": [
    "df1.to_csv('retail_data.csv',index=False)"
   ]
  },
  {
   "cell_type": "code",
   "execution_count": 35,
   "metadata": {},
   "outputs": [
    {
     "name": "stdout",
     "output_type": "stream",
     "text": [
      "['Sold' 'Free Items' 'Inventory adjustments' 'Returns'\n",
      " 'Inventory adjustments/Damaged' 'Sales Error/Order Error'\n",
      " 'Inventory adjustments ' 'External Sales' ' samples' 'debt' 'Discount'\n",
      " 'SAMPLES']\n"
     ]
    }
   ],
   "source": [
    "value = df1['transaction_type_categories'].unique()\n",
    "print(value)"
   ]
  }
 ],
 "metadata": {
  "kernelspec": {
   "display_name": "my_env1",
   "language": "python",
   "name": "python3"
  },
  "language_info": {
   "codemirror_mode": {
    "name": "ipython",
    "version": 3
   },
   "file_extension": ".py",
   "mimetype": "text/x-python",
   "name": "python",
   "nbconvert_exporter": "python",
   "pygments_lexer": "ipython3",
   "version": "3.13.1"
  }
 },
 "nbformat": 4,
 "nbformat_minor": 2
}
